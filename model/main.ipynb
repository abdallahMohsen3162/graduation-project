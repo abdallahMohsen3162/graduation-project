{
 "cells": [
  {
   "cell_type": "code",
   "execution_count": 43,
   "id": "d375cb01-13ec-4222-ba5a-712b00e8e3ae",
   "metadata": {},
   "outputs": [],
   "source": [
    "import cv2\n",
    "import numpy as np\n",
    "from ultralytics import YOLO\n",
    "import matplotlib.pyplot as plt\n",
    "import math\n",
    "\n"
   ]
  },
  {
   "cell_type": "code",
   "execution_count": 44,
   "id": "c26fa5c6-d409-4e8a-8a0b-f6f427c71836",
   "metadata": {},
   "outputs": [],
   "source": [
    "imgname = \"me.jpg\""
   ]
  },
  {
   "cell_type": "code",
   "execution_count": 45,
   "id": "544dba2b-3604-4fbd-8f8d-1a0be9883107",
   "metadata": {},
   "outputs": [
    {
     "name": "stdout",
     "output_type": "stream",
     "text": [
      "\n",
      "image 1/1 C:\\Users\\Abdullah\\pythonwork\\yolo\\me.jpg: 640x480 1 person, 1 cell phone, 73.5ms\n",
      "Speed: 3.0ms preprocess, 73.5ms inference, 2.0ms postprocess per image at shape (1, 3, 640, 480)\n",
      "tensor([[0.0000e+00, 1.9427e+02, 9.5898e+02, 1.2786e+03, 8.6981e-01, 0.0000e+00],\n",
      "        [3.5162e+02, 9.5881e+02, 4.7466e+02, 1.0657e+03, 3.0630e-01, 6.7000e+01]])\n"
     ]
    }
   ],
   "source": [
    "model = YOLO(\"yolov8n.pt\")\n",
    "res = model(imgname, show=False)\n",
    "cv2.waitKey(0)\n",
    "\n",
    "# the boundries of all boxes\n",
    "print(res[0].boxes.data)\n"
   ]
  },
  {
   "cell_type": "code",
   "execution_count": 46,
   "id": "dbc47a2b-513d-4e8a-8079-2553e1a81899",
   "metadata": {},
   "outputs": [],
   "source": [
    "import cv2\n",
    "c = 0\n",
    "for i in res[0].boxes.data:\n",
    "    c += 1\n",
    "    original_image = cv2.imread(imgname)\n",
    "    x, y, w, h = math.floor(i[0]), math.floor(i[1]), math.floor(i[2]), math.floor(i[3])\n",
    "    cropped_image = original_image[y:h, x:w]\n",
    "    img_name = \"cur\" \n",
    "    cv2.imwrite(img_name + f\"{c}\" + \".jpg\", cropped_image)\n",
    "    cv2.imshow(img_name, cropped_image)\n",
    "    cv2.waitKey(0)\n",
    "    cv2.destroyAllWindows()\n"
   ]
  },
  {
   "cell_type": "code",
   "execution_count": null,
   "id": "01940702-f82b-44a9-b10e-2c1300dd210a",
   "metadata": {},
   "outputs": [],
   "source": []
  },
  {
   "cell_type": "code",
   "execution_count": null,
   "id": "c4fbda3a-e4bb-43e7-b57b-f8eb92161b80",
   "metadata": {},
   "outputs": [],
   "source": []
  }
 ],
 "metadata": {
  "kernelspec": {
   "display_name": "Python 3 (ipykernel)",
   "language": "python",
   "name": "python3"
  },
  "language_info": {
   "codemirror_mode": {
    "name": "ipython",
    "version": 3
   },
   "file_extension": ".py",
   "mimetype": "text/x-python",
   "name": "python",
   "nbconvert_exporter": "python",
   "pygments_lexer": "ipython3",
   "version": "3.11.4"
  }
 },
 "nbformat": 4,
 "nbformat_minor": 5
}
